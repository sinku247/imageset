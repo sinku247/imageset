{
 "cells": [
  {
   "cell_type": "code",
   "execution_count": 13,
   "metadata": {},
   "outputs": [],
   "source": [
    "import json\n",
    "import cv2\n",
    "import os"
   ]
  },
  {
   "cell_type": "code",
   "execution_count": 14,
   "metadata": {},
   "outputs": [
    {
     "name": "stdout",
     "output_type": "stream",
     "text": [
      "json_data type:  <class 'dict'>\n",
      "{'licenses': [{'name': '', 'id': 0, 'url': ''}], 'info': {'contributor': '', 'date_created': '', 'description': '', 'url': '', 'version': '', 'year': ''}, 'categories': [{'id': 1, 'name': 'cat', 'supercategory': ''}, {'id': 2, 'name': 'dog', 'supercategory': ''}], 'images': [{'id': 1, 'width': 640, 'height': 480, 'file_name': '01.jpg', 'license': 0, 'flickr_url': '', 'coco_url': '', 'date_captured': 0}], 'annotations': [{'id': 1, 'image_id': 1, 'category_id': 2, 'segmentation': [], 'area': 42499.856999999996, 'bbox': [468.94, 92.01, 171.06, 248.45], 'iscrowd': 0, 'attributes': {'occluded': False}}, {'id': 2, 'image_id': 1, 'category_id': 1, 'segmentation': [], 'area': 42994.3464, 'bbox': [3.96, 183.38, 200.88, 214.03], 'iscrowd': 0, 'attributes': {'occluded': False}}]}\n"
     ]
    }
   ],
   "source": [
    "# json 파일을 가져와야함.\n",
    "json_data_path = './instances_default.json'\n",
    "\n",
    "with open(json_data_path, 'r', encoding='utf-8') as j:\n",
    "    json_data = json.load(j)\n",
    "\n",
    "print('json_data type: ', type(json_data))\n",
    "print(json_data)"
   ]
  },
  {
   "cell_type": "code",
   "execution_count": 15,
   "metadata": {},
   "outputs": [
    {
     "name": "stdout",
     "output_type": "stream",
     "text": [
      "[{'id': 1, 'name': 'cat', 'supercategory': ''}, {'id': 2, 'name': 'dog', 'supercategory': ''}]\n",
      "[{'id': 1, 'width': 640, 'height': 480, 'file_name': '01.jpg', 'license': 0, 'flickr_url': '', 'coco_url': '', 'date_captured': 0}]\n",
      "[{'id': 1, 'image_id': 1, 'category_id': 2, 'segmentation': [], 'area': 42499.856999999996, 'bbox': [468.94, 92.01, 171.06, 248.45], 'iscrowd': 0, 'attributes': {'occluded': False}}, {'id': 2, 'image_id': 1, 'category_id': 1, 'segmentation': [], 'area': 42994.3464, 'bbox': [3.96, 183.38, 200.88, 214.03], 'iscrowd': 0, 'attributes': {'occluded': False}}]\n"
     ]
    }
   ],
   "source": [
    "# json 값을 가져와 체크\n",
    "\n",
    "print(json_data['categories'])\n",
    "# result => [{'id': 1, 'name': 'cat', 'supercategory': ''}, {'id': 2, 'name': 'dog', 'supercategory': ''}]\n",
    "\n",
    "print(json_data['images'])\n",
    "# result -> [{'id': 1, 'width': 640, 'height': 480, 'file_name': '01.jpg', 'license': 0, 'flickr_url': '', 'coco_url': '', 'date_captured': 0}]\n",
    "\n",
    "print(json_data['annotations'])\n",
    "# result -> [{'id': 1, 'image_id': 1, 'category_id': 2, 'segmentation': [], 'area': 42499.856999999996, 'bbox': [468.94, 92.01, 171.06, 248.45], \n",
    "# 'iscrowd': 0, 'attributes': {'occluded': False}}, {'id': 2, 'image_id': 1, 'category_id': 1, 'segmentation': [], \n",
    "# 'area': 42994.3464, 'bbox': [3.96, 183.38, 200.88, 214.03], 'iscrowd': 0, 'attributes': {'occluded': False}}]"
   ]
  },
  {
   "cell_type": "code",
   "execution_count": 16,
   "metadata": {},
   "outputs": [
    {
     "name": "stdout",
     "output_type": "stream",
     "text": [
      "[{'id': 1, 'name': 'cat', 'supercategory': ''}, {'id': 2, 'name': 'dog', 'supercategory': ''}]\n",
      "[{'id': 1, 'width': 640, 'height': 480, 'file_name': '01.jpg', 'license': 0, 'flickr_url': '', 'coco_url': '', 'date_captured': 0}]\n",
      "[{'id': 1, 'image_id': 1, 'category_id': 2, 'segmentation': [], 'area': 42499.856999999996, 'bbox': [468.94, 92.01, 171.06, 248.45], 'iscrowd': 0, 'attributes': {'occluded': False}}, {'id': 2, 'image_id': 1, 'category_id': 1, 'segmentation': [], 'area': 42994.3464, 'bbox': [3.96, 183.38, 200.88, 214.03], 'iscrowd': 0, 'attributes': {'occluded': False}}]\n"
     ]
    }
   ],
   "source": [
    "#변수 선언\n",
    "categories_info = json_data['categories']\n",
    "images_info = json_data['images']\n",
    "annotations_info = json_data['annotations']\n",
    "\n",
    "print(categories_info)\n",
    "print(images_info)\n",
    "print(annotations_info)\n",
    "\n",
    "#라벨 딕셔너리 선언\n",
    "\n",
    "label_dict = {1 : 'cat', 2 : 'dog', 3 : 'bird', 4 : 'horse'}"
   ]
  },
  {
   "cell_type": "code",
   "execution_count": 19,
   "metadata": {},
   "outputs": [
    {
     "name": "stdout",
     "output_type": "stream",
     "text": [
      "01.jpg\n",
      "640 480\n",
      "1\n",
      "./01.jpg\n",
      "[[[ 62  74  80]\n",
      "  [ 27  39  45]\n",
      "  [ 19  34  37]\n",
      "  ...\n",
      "  [ 77  80  88]\n",
      "  [ 76  79  87]\n",
      "  [ 76  79  87]]\n",
      "\n",
      " [[101 115 121]\n",
      "  [ 66  80  86]\n",
      "  [ 30  45  48]\n",
      "  ...\n",
      "  [ 87  92 101]\n",
      "  [ 86  91 100]\n",
      "  [ 85  90  99]]\n",
      "\n",
      " [[ 92 108 115]\n",
      "  [100 116 122]\n",
      "  [ 72  89  92]\n",
      "  ...\n",
      "  [101 107 120]\n",
      "  [100 106 117]\n",
      "  [ 99 105 116]]\n",
      "\n",
      " ...\n",
      "\n",
      " [[125 127 127]\n",
      "  [ 98 100 100]\n",
      "  [112 114 114]\n",
      "  ...\n",
      "  [183 191 208]\n",
      "  [180 188 205]\n",
      "  [175 183 200]]\n",
      "\n",
      " [[113 114 112]\n",
      "  [ 92  93  91]\n",
      "  [116 117 115]\n",
      "  ...\n",
      "  [177 187 204]\n",
      "  [176 184 201]\n",
      "  [171 179 196]]\n",
      "\n",
      " [[ 93  92  88]\n",
      "  [148 147 143]\n",
      "  [114 113 109]\n",
      "  ...\n",
      "  [170 180 197]\n",
      "  [172 180 197]\n",
      "  [168 176 193]]]\n"
     ]
    }
   ],
   "source": [
    "for image_json in images_info:\n",
    "    file_name = image_json['file_name']\n",
    "    image_width = image_json['width']\n",
    "    image_height = image_json['height']\n",
    "    image_id = image_json['id']\n",
    "#    print(file_name)\n",
    "#    print(image_width, image_height)\n",
    "#    print(image_id)\n",
    "    image_path = os.path.join('./', file_name)\n",
    "#    print(image_path)\n",
    "    #파일명만 있는 이유 -> 디렉토리가 어떻게 구성될지 모르기 때문\n",
    "\n",
    "    #image read\n",
    "    image = cv2.imread(image_path)\n",
    "    image = cv2.cvtColor(image, cv2.COLOR_BGR2RGB)\n",
    "    for anno_json in annotations_info:\n",
    "#        print(anno_json)\n",
    "        if image_id == anno_json['image_id']:\n",
    "            bbox = anno_json['bbox']\n",
    "            x = int(bbox[0])\n",
    "            y = int(bbox[1])\n",
    "            w = int(bbox[2])\n",
    "            h = int(bbox[3])\n",
    "            print('check bbox spot',x, y, w, h)"
   ]
  },
  {
   "cell_type": "code",
   "execution_count": null,
   "metadata": {},
   "outputs": [],
   "source": []
  }
 ],
 "metadata": {
  "kernelspec": {
   "display_name": "pytorch",
   "language": "python",
   "name": "python3"
  },
  "language_info": {
   "codemirror_mode": {
    "name": "ipython",
    "version": 3
   },
   "file_extension": ".py",
   "mimetype": "text/x-python",
   "name": "python",
   "nbconvert_exporter": "python",
   "pygments_lexer": "ipython3",
   "version": "3.8.16"
  },
  "orig_nbformat": 4
 },
 "nbformat": 4,
 "nbformat_minor": 2
}
