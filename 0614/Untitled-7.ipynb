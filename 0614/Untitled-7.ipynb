{
 "cells": [
  {
   "attachments": {},
   "cell_type": "markdown",
   "metadata": {},
   "source": [
    "### json 어노테이션 값 -> yolo format change"
   ]
  },
  {
   "cell_type": "code",
   "execution_count": 4,
   "metadata": {},
   "outputs": [],
   "source": [
    "import json\n",
    "import os\n",
    "import cv2\n",
    "import matplotlib.pyplot as plt"
   ]
  },
  {
   "attachments": {},
   "cell_type": "markdown",
   "metadata": {},
   "source": [
    "### json 파일 읽기"
   ]
  },
  {
   "cell_type": "code",
   "execution_count": 17,
   "metadata": {},
   "outputs": [
    {
     "name": "stdout",
     "output_type": "stream",
     "text": [
      "[{'id': 1, 'name': 'cat', 'supercategory': ''}, {'id': 2, 'name': 'dog', 'supercategory': ''}] [{'id': 1, 'width': 640, 'height': 480, 'file_name': '01.jpg', 'license': 0, 'flickr_url': '', 'coco_url': '', 'date_captured': 0}] [{'id': 1, 'image_id': 1, 'category_id': 2, 'segmentation': [], 'area': 42499.856999999996, 'bbox': [468.94, 92.01, 171.06, 248.45], 'iscrowd': 0, 'attributes': {'occluded': False}}, {'id': 2, 'image_id': 1, 'category_id': 1, 'segmentation': [], 'area': 42994.3464, 'bbox': [3.96, 183.38, 200.88, 214.03], 'iscrowd': 0, 'attributes': {'occluded': False}}]\n",
      "{'id': 1, 'width': 640, 'height': 480, 'file_name': '01.jpg', 'license': 0, 'flickr_url': '', 'coco_url': '', 'date_captured': 0}\n",
      "./01.jpg\n",
      "anno_json {'id': 1, 'image_id': 1, 'category_id': 2, 'segmentation': [], 'area': 42499.856999999996, 'bbox': [468.94, 92.01, 171.06, 248.45], 'iscrowd': 0, 'attributes': {'occluded': False}}\n",
      "bbox >> [468.94, 92.01, 171.06, 248.45]\n",
      "label_number 1\n",
      "1 0.86484375 0.45 0.2671875 0.5166666666666667\n",
      "01.\n",
      "anno_json {'id': 2, 'image_id': 1, 'category_id': 1, 'segmentation': [], 'area': 42994.3464, 'bbox': [3.96, 183.38, 200.88, 214.03], 'iscrowd': 0, 'attributes': {'occluded': False}}\n",
      "bbox >> [3.96, 183.38, 200.88, 214.03]\n",
      "label_number 0\n",
      "0 0.1609375 0.6041666666666666 0.3125 0.44583333333333336\n",
      "01.\n"
     ]
    }
   ],
   "source": [
    "# 1. json 경로 선언\n",
    "json_path = './instances_default.json'\n",
    "\n",
    "# 2. json 읽기\n",
    "with open(json_path, 'r', encoding='utf-8') as f:\n",
    "    json_data = json.load(f)\n",
    "\n",
    "# 3. categories, images,annotations -> COCO dataset 기준\n",
    "categories_info = json_data['categories']\n",
    "images_info = json_data['images']\n",
    "annotations_info = json_data['annotations']\n",
    "print(categories_info, images_info, annotations_info)\n",
    "\n",
    "label_dict = {1:0, 2:1}\n",
    "\n",
    "for image_json in images_info:\n",
    "    print(image_json)\n",
    "    image_id = image_json['id']\n",
    "    image_name = image_json['file_name']\n",
    "    image_width = image_json['width']\n",
    "    image_height = image_json['height']\n",
    "\n",
    "    image_path = os.path.join('./', image_name)\n",
    "    print(image_path)\n",
    "\n",
    "    #image 읽기\n",
    "\n",
    "    image = cv2.imread(image_path)\n",
    "    image = cv2.cvtColor(image, cv2.COLOR_BGR2RGB)\n",
    "\n",
    "# 5. bbox info 가져오기\n",
    "\n",
    "    for anno_json in annotations_info:\n",
    "        print('anno_json',anno_json)\n",
    "        if image_id == anno_json['image_id']:\n",
    "            bbox = anno_json['bbox']\n",
    "            print('bbox >>', bbox)\n",
    "\n",
    "            #flot -> int\n",
    "            x = int(bbox[0])\n",
    "            y = int(bbox[1])\n",
    "            w = int(bbox[2])\n",
    "            h = int(bbox[3])\n",
    "# 6. 라벨 정보 가져오기\n",
    "\n",
    "            category_id = anno_json['category_id']\n",
    "            label_number = label_dict[category_id]\n",
    "            print('label_number', label_number)\n",
    "\n",
    "# 7. xywh -> centerX, centerY, width, height 변환하기\n",
    "\n",
    "            center_x = ((2 * x + w) / (2 * image_width))\n",
    "            center_y = ((2 * y + h) / (2 * image_height))\n",
    "            yolo_w = w/image_width\n",
    "            yolo_h = h/image_height\n",
    "\n",
    "            print(label_number, center_x, center_y, yolo_w, yolo_h)\n",
    "\n",
    "\n",
    "\n",
    "\n",
    "\n",
    "            #yolo 라벨 이름은 -> 이미지에 이름과 동일해야 함.\n",
    "            # ex) aaa.png -> aaa.txt\n",
    "# 8. 텍스트 파일 쓰기\n",
    "            file_name_temp = image_name.replace('jpg', '')\n",
    "            print(file_name_temp)\n",
    "\n",
    "            #폴더 생성\n",
    "        #os.mkdir(os.path.join('./label_data/', file_name_temp))\n",
    "\n",
    "        #with open(f'./label_data/{file_name_temp}.txt', 'a', encoding='utf-8') as f:\n",
    "        with open(f'/{file_name_temp}.txt', 'a', encoding='utf-8') as f:\n",
    "            f.write(f'{label_number} {center_x} {center_y} {yolo_w} {yolo_h}')\n",
    "\n",
    "            \n",
    "\n",
    "            '''#박스 그리기\n",
    "            cv2.rectangle(image, (x, y), (x+w, y+h), (0, 255, 0), 2)\n",
    "\n",
    "    plt.imshow(image)\n",
    "    plt.show()'''\n"
   ]
  },
  {
   "cell_type": "code",
   "execution_count": null,
   "metadata": {},
   "outputs": [],
   "source": []
  }
 ],
 "metadata": {
  "kernelspec": {
   "display_name": "pytorch",
   "language": "python",
   "name": "python3"
  },
  "language_info": {
   "codemirror_mode": {
    "name": "ipython",
    "version": 3
   },
   "file_extension": ".py",
   "mimetype": "text/x-python",
   "name": "python",
   "nbconvert_exporter": "python",
   "pygments_lexer": "ipython3",
   "version": "3.8.16"
  },
  "orig_nbformat": 4
 },
 "nbformat": 4,
 "nbformat_minor": 2
}
