{
 "cells": [
  {
   "cell_type": "code",
   "execution_count": 2,
   "metadata": {},
   "outputs": [],
   "source": [
    "import random\n",
    "import cv2\n",
    "import albumentations as A\n",
    "import matplotlib.pyplot as plt\n",
    "\n",
    "\n"
   ]
  },
  {
   "cell_type": "code",
   "execution_count": 3,
   "metadata": {},
   "outputs": [],
   "source": [
    "image = cv2.imread('cat_dog.jpeg')\n",
    "\n",
    "def visualize(tf_img):\n",
    "    cv2.imshow(\"org\", img)\n",
    "    cv2.imshow(\"tf_img\", tf_img)\n",
    "    cv2.waitKey()"
   ]
  },
  {
   "cell_type": "code",
   "execution_count": 1,
   "metadata": {},
   "outputs": [
    {
     "ename": "NameError",
     "evalue": "name 'A' is not defined",
     "output_type": "error",
     "traceback": [
      "\u001b[1;31m---------------------------------------------------------------------------\u001b[0m",
      "\u001b[1;31mNameError\u001b[0m                                 Traceback (most recent call last)",
      "Cell \u001b[1;32mIn[1], line 2\u001b[0m\n\u001b[0;32m      1\u001b[0m \u001b[39m#### 좌우반전\u001b[39;00m\n\u001b[1;32m----> 2\u001b[0m transform \u001b[39m=\u001b[39m A\u001b[39m.\u001b[39mHorizontalFlip(p\u001b[39m=\u001b[39m\u001b[39m0.5\u001b[39m)\n\u001b[0;32m      3\u001b[0m random\u001b[39m.\u001b[39mseed(\u001b[39m7\u001b[39m)\n\u001b[0;32m      4\u001b[0m augmentated_img \u001b[39m=\u001b[39m transform(image\u001b[39m=\u001b[39mimage)[\u001b[39m'\u001b[39m\u001b[39mimage\u001b[39m\u001b[39m'\u001b[39m]\n",
      "\u001b[1;31mNameError\u001b[0m: name 'A' is not defined"
     ]
    }
   ],
   "source": [
    "#### 좌우반전\n",
    "transform = A.HorizontalFlip(p=0.5)\n",
    "random.seed(7)\n",
    "augmentated_img = transform(image=image)['image']\n",
    "cv2.imshow(\"\", augmentated_img)\n",
    "cv2.waitKey()\n",
    "#### 좌우반전"
   ]
  },
  {
   "cell_type": "code",
   "execution_count": null,
   "metadata": {},
   "outputs": [],
   "source": [
    "#### Compose\n",
    "transform = A.Compose([\n",
    "    A.CLAHE(),\n",
    "    A.Flip(),\n",
    "    # A.OneOf([\n",
    "    #     A.IAAAdditiveGaussianNoise(),\n",
    "    #     A.GaussNoise()\n",
    "    # ], p=0.2),\n",
    "    A.RandomRotate90(),\n",
    "    A.Transpose(),\n",
    "    A.ShiftScaleRotate(shift_limit=0.0625, scale_limit=0.50, rotate_limit=45, p=.75),\n",
    "    A.Blur(blur_limit=3),\n",
    "    A.OpticalDistortion(),\n",
    "    A.GridDistortion(),\n",
    "    A.HueSaturationValue()\n",
    "])\n",
    "while True:\n",
    "    augmentated_img = transform(image=image)[\"image\"]\n",
    "    cv2.imshow(\"org\", image)\n",
    "    cv2.imshow(\"tf\", augmentated_img)\n",
    "    key = cv2.waitKey()\n",
    "    if key == ord('q'):\n",
    "        cv2.destroyAllWindows()\n",
    "        break\n",
    "#### Compose"
   ]
  },
  {
   "cell_type": "code",
   "execution_count": null,
   "metadata": {},
   "outputs": [],
   "source": [
    "img = cv2.imread(\"image02.jpeg\")\n",
    "\n",
    "\n",
    "#### RandomRain\n",
    "transform = A.Compose(\n",
    "    [A.RandomRain(brightness_coefficient=0.9, drop_width=1, blur_value=5, p=1)]\n",
    ")\n",
    "rain_img = transform(image=img)['image']\n",
    "cv2.imshow(\"org\", img)\n",
    "cv2.imshow(\"rain\", rain_img)\n",
    "cv2.waitKey()\n",
    "#### RandomRain"
   ]
  },
  {
   "cell_type": "code",
   "execution_count": null,
   "metadata": {},
   "outputs": [],
   "source": [
    "#### RandomSnow\n",
    "transform = A.Compose(\n",
    "    [A.RandomSnow(brightness_coeff=2.5, snow_point_lower=0.3, snow_point_upper=0.5, p=1)]\n",
    ")\n",
    "snow_img = transform(image=img)['image']\n",
    "cv2.imshow(\"org\", img)\n",
    "cv2.imshow(\"snow\", snow_img)\n",
    "cv2.waitKey()\n",
    "#### RandomSnow"
   ]
  },
  {
   "cell_type": "code",
   "execution_count": null,
   "metadata": {},
   "outputs": [],
   "source": [
    "#### RandomSunFlare\n",
    "transform = A.Compose(\n",
    "    [A.RandomSunFlare(flare_roi = (0, 0, 1, 0.5), angle_lower=0.5, p=1)]\n",
    ")\n",
    "flare_img = transform(image=img)['image']\n",
    "cv2.imshow(\"org\", img)\n",
    "cv2.imshow(\"flare\", flare_img)\n",
    "cv2.waitKey()\n",
    "#### RandomSunFlare"
   ]
  },
  {
   "cell_type": "code",
   "execution_count": null,
   "metadata": {},
   "outputs": [],
   "source": [
    "### RandomShadow\n",
    "transform = A.Compose(\n",
    "    [A.RandomShadow(num_shadows_lower=1, num_shadows_upper=3, shadow_dimension=5, shadow_roi=(0, 0.5, 1, 1), p=1)]\n",
    ")\n",
    "shadow_img = transform(image=img)['image']\n",
    "visualize(shadow_img)\n",
    "### RandomShadow"
   ]
  },
  {
   "cell_type": "code",
   "execution_count": null,
   "metadata": {},
   "outputs": [],
   "source": [
    "#### RandomFog\n",
    "transform = A.Compose(\n",
    "    [A.RandomFog(fog_coef_lower=0.4, fog_coef_upper=0.6, alpha_coef=0.1, p=1)]\n",
    ")\n",
    "fog_img = transform(image=img)['image']\n",
    "visualize(fog_img)\n",
    "#### RandomFog"
   ]
  }
 ],
 "metadata": {
  "kernelspec": {
   "display_name": "pytorch",
   "language": "python",
   "name": "python3"
  },
  "language_info": {
   "codemirror_mode": {
    "name": "ipython",
    "version": 3
   },
   "file_extension": ".py",
   "mimetype": "text/x-python",
   "name": "python",
   "nbconvert_exporter": "python",
   "pygments_lexer": "ipython3",
   "version": "3.8.16"
  },
  "orig_nbformat": 4
 },
 "nbformat": 4,
 "nbformat_minor": 2
}
