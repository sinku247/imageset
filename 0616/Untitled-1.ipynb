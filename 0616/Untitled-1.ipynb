{
 "cells": [
  {
   "attachments": {},
   "cell_type": "markdown",
   "metadata": {},
   "source": [
    "## 정형 데이터셋 나누기 간단 실습"
   ]
  },
  {
   "cell_type": "code",
   "execution_count": 2,
   "metadata": {},
   "outputs": [],
   "source": [
    "import pandas as pd\n",
    "from sklearn.model_selection import train_test_split"
   ]
  },
  {
   "cell_type": "code",
   "execution_count": 4,
   "metadata": {},
   "outputs": [
    {
     "name": "stdout",
     "output_type": "stream",
     "text": [
      "               id             date     price  bedrooms  bathrooms  \\\n",
      "0      7129300520  20141013T000000  221900.0         3       1.00   \n",
      "1      6414100192  20141209T000000  538000.0         3       2.25   \n",
      "2      5631500400  20150225T000000  180000.0         2       1.00   \n",
      "3      2487200875  20141209T000000  604000.0         4       3.00   \n",
      "4      1954400510  20150218T000000  510000.0         3       2.00   \n",
      "...           ...              ...       ...       ...        ...   \n",
      "21608   263000018  20140521T000000  360000.0         3       2.50   \n",
      "21609  6600060120  20150223T000000  400000.0         4       2.50   \n",
      "21610  1523300141  20140623T000000  402101.0         2       0.75   \n",
      "21611   291310100  20150116T000000  400000.0         3       2.50   \n",
      "21612  1523300157  20141015T000000  325000.0         2       0.75   \n",
      "\n",
      "       sqft_living  sqft_lot  floors  waterfront  view  ...  grade  \\\n",
      "0             1180      5650     1.0           0     0  ...      7   \n",
      "1             2570      7242     2.0           0     0  ...      7   \n",
      "2              770     10000     1.0           0     0  ...      6   \n",
      "3             1960      5000     1.0           0     0  ...      7   \n",
      "4             1680      8080     1.0           0     0  ...      8   \n",
      "...            ...       ...     ...         ...   ...  ...    ...   \n",
      "21608         1530      1131     3.0           0     0  ...      8   \n",
      "21609         2310      5813     2.0           0     0  ...      8   \n",
      "21610         1020      1350     2.0           0     0  ...      7   \n",
      "21611         1600      2388     2.0           0     0  ...      8   \n",
      "21612         1020      1076     2.0           0     0  ...      7   \n",
      "\n",
      "       sqft_above  sqft_basement  yr_built  yr_renovated  zipcode      lat  \\\n",
      "0            1180              0      1955             0    98178  47.5112   \n",
      "1            2170            400      1951          1991    98125  47.7210   \n",
      "2             770              0      1933             0    98028  47.7379   \n",
      "3            1050            910      1965             0    98136  47.5208   \n",
      "4            1680              0      1987             0    98074  47.6168   \n",
      "...           ...            ...       ...           ...      ...      ...   \n",
      "21608        1530              0      2009             0    98103  47.6993   \n",
      "21609        2310              0      2014             0    98146  47.5107   \n",
      "21610        1020              0      2009             0    98144  47.5944   \n",
      "21611        1600              0      2004             0    98027  47.5345   \n",
      "21612        1020              0      2008             0    98144  47.5941   \n",
      "\n",
      "          long  sqft_living15  sqft_lot15  \n",
      "0     -122.257           1340        5650  \n",
      "1     -122.319           1690        7639  \n",
      "2     -122.233           2720        8062  \n",
      "3     -122.393           1360        5000  \n",
      "4     -122.045           1800        7503  \n",
      "...        ...            ...         ...  \n",
      "21608 -122.346           1530        1509  \n",
      "21609 -122.362           1830        7200  \n",
      "21610 -122.299           1020        2007  \n",
      "21611 -122.069           1410        1287  \n",
      "21612 -122.299           1020        1357  \n",
      "\n",
      "[21613 rows x 21 columns]\n"
     ]
    }
   ],
   "source": [
    "url = 'https://raw.githubusercontent.com/mGalarnyk/Tutorial_Data/master/King_County/kingCountyHouseData.csv'\n",
    "df = pd.read_csv(url)\n",
    "\n",
    "print(df)"
   ]
  },
  {
   "attachments": {},
   "cell_type": "markdown",
   "metadata": {},
   "source": [
    "#### 정형 데이터 학습 중간 평가 테스트"
   ]
  },
  {
   "cell_type": "code",
   "execution_count": 6,
   "metadata": {},
   "outputs": [
    {
     "name": "stdout",
     "output_type": "stream",
     "text": [
      "       bedrooms  bathrooms  sqft_living  sqft_lot  floors     price\n",
      "0             3       1.00         1180      5650     1.0  221900.0\n",
      "1             3       2.25         2570      7242     2.0  538000.0\n",
      "2             2       1.00          770     10000     1.0  180000.0\n",
      "3             4       3.00         1960      5000     1.0  604000.0\n",
      "4             3       2.00         1680      8080     1.0  510000.0\n",
      "...         ...        ...          ...       ...     ...       ...\n",
      "21608         3       2.50         1530      1131     3.0  360000.0\n",
      "21609         4       2.50         2310      5813     2.0  400000.0\n",
      "21610         2       0.75         1020      1350     2.0  402101.0\n",
      "21611         3       2.50         1600      2388     2.0  400000.0\n",
      "21612         2       0.75         1020      1076     2.0  325000.0\n",
      "\n",
      "[21613 rows x 6 columns]\n"
     ]
    }
   ],
   "source": [
    "columns = [\n",
    "'bedrooms','bathrooms','sqft_living','sqft_lot','floors','price',\n",
    "]\n",
    "\n",
    "df= df.loc[:,columns]\n",
    "\n",
    "print(df)"
   ]
  },
  {
   "cell_type": "code",
   "execution_count": 13,
   "metadata": {},
   "outputs": [
    {
     "name": "stdout",
     "output_type": "stream",
     "text": [
      "       bedrooms  bathrooms  sqft_living  sqft_lot  floors\n",
      "0             3       1.00         1180      5650     1.0\n",
      "1             3       2.25         2570      7242     2.0\n",
      "2             2       1.00          770     10000     1.0\n",
      "3             4       3.00         1960      5000     1.0\n",
      "4             3       2.00         1680      8080     1.0\n",
      "...         ...        ...          ...       ...     ...\n",
      "21608         3       2.50         1530      1131     3.0\n",
      "21609         4       2.50         2310      5813     2.0\n",
      "21610         2       0.75         1020      1350     2.0\n",
      "21611         3       2.50         1600      2388     2.0\n",
      "21612         2       0.75         1020      1076     2.0\n",
      "\n",
      "[21613 rows x 5 columns]\n",
      "          price\n",
      "0      221900.0\n",
      "1      538000.0\n",
      "2      180000.0\n",
      "3      604000.0\n",
      "4      510000.0\n",
      "...         ...\n",
      "21608  360000.0\n",
      "21609  400000.0\n",
      "21610  402101.0\n",
      "21611  400000.0\n",
      "21612  325000.0\n",
      "\n",
      "[21613 rows x 1 columns]\n"
     ]
    }
   ],
   "source": [
    "features_data = [\n",
    "    'bedrooms','bathrooms','sqft_living','sqft_lot','floors'\n",
    "] #학습 데이터\n",
    "traget_data = ['price'] #정답지\n",
    "\n",
    "x_data = df.loc[:,features_data] #학습 데이터\n",
    "y_data = df.loc[:,traget_data] #정답지\n",
    "\n",
    "print(x_data)\n",
    "print(y_data)"
   ]
  },
  {
   "cell_type": "code",
   "execution_count": 18,
   "metadata": {},
   "outputs": [
    {
     "name": "stdout",
     "output_type": "stream",
     "text": [
      "변경 전 데이터 양\n",
      "x_data_size: (21613, 5)\n",
      "y_data_size: (21613, 1)\n",
      "변경 후 데이터 양\n",
      "x_train (17290, 5)\n",
      "y_train (17290, 1)\n",
      "x_val (3458, 5)\n",
      "y_val (3458, 1)\n",
      "x_test (865, 5)\n",
      "y_test (865, 1)\n"
     ]
    }
   ],
   "source": [
    "x_train, x_val_list, y_train, y_val_list = train_test_split(x_data, y_data, random_state=777, train_size=0.8)\n",
    "x_val, x_test, y_val, y_test = train_test_split(x_val_list, y_val_list, random_state=777, test_size=0.2)\n",
    "print(\"변경 전 데이터 양\")\n",
    "print('x_data_size:', x_data.shape)\n",
    "print('y_data_size:', y_data.shape)\n",
    "print('변경 후 데이터 양')\n",
    "print('x_train', x_train.shape)\n",
    "print('y_train', y_train.shape)\n",
    "print('x_val', x_val.shape)\n",
    "print('y_val', y_val.shape)\n",
    "print('x_test', x_test.shape)\n",
    "print('y_test', y_test.shape)"
   ]
  },
  {
   "cell_type": "code",
   "execution_count": 21,
   "metadata": {},
   "outputs": [
    {
     "name": "stdout",
     "output_type": "stream",
     "text": [
      "1.10.0+cpu\n",
      "0.11.0+cpu\n"
     ]
    }
   ],
   "source": [
    "import torch\n",
    "import torchvision\n",
    "\n",
    "print(torch.__version__)\n",
    "print(torchvision.__version__)"
   ]
  },
  {
   "cell_type": "code",
   "execution_count": null,
   "metadata": {},
   "outputs": [],
   "source": []
  },
  {
   "cell_type": "code",
   "execution_count": null,
   "metadata": {},
   "outputs": [],
   "source": []
  }
 ],
 "metadata": {
  "kernelspec": {
   "display_name": "pytorch",
   "language": "python",
   "name": "python3"
  },
  "language_info": {
   "codemirror_mode": {
    "name": "ipython",
    "version": 3
   },
   "file_extension": ".py",
   "mimetype": "text/x-python",
   "name": "python",
   "nbconvert_exporter": "python",
   "pygments_lexer": "ipython3",
   "version": "3.8.16"
  },
  "orig_nbformat": 4
 },
 "nbformat": 4,
 "nbformat_minor": 2
}
